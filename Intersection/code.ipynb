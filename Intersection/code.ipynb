{
 "cells": [
  {
   "cell_type": "code",
   "execution_count": null,
   "metadata": {},
   "outputs": [],
   "source": [
    "class Segment():\n",
    "    def __init__(self, ux, uy, lx, ly):\n",
    "        self.upper = (ux, uy)\n",
    "        self.lower = (lx, ly)\n",
    "\n",
    "class Event():\n",
    "    def __init__(self, xy, type, parent = None):\n",
    "        self.parent = parent\n",
    "        self.value = xy\n",
    "        self.type = type\n",
    "        self.left_child = None\n",
    "        self.right_child = None\n",
    "    def __gt__(self, other):\n",
    "        return self.value[0] > other.value[0]\n",
    "    def __lt__(self, other):\n",
    "        return self.value[0] < other.value[0]\n",
    "    # def __eq__(self, other):\n",
    "    #     print(isinstance(other, Event))\n",
    "    #     if type(other) != Event:\n",
    "    #         return True\n",
    "    #     return self.value[0] == other.value[1]\n",
    "\n",
    "class BST():\n",
    "    def __init__(self):\n",
    "        self.root = None\n",
    "    def is_empty(self):\n",
    "        return self.root == None\n",
    "    def add(self, node):\n",
    "        if self.root == None:\n",
    "            self.root = node\n",
    "            return\n",
    "        temp = self.root\n",
    "        while temp != None:\n",
    "            if node < temp:\n",
    "                if temp.left_child == None:\n",
    "                    temp.left_child = node\n",
    "                    temp.left_child.parent = temp\n",
    "                    return\n",
    "                temp = temp.left_child\n",
    "            if temp.right_child == None:\n",
    "                temp.right_child = node\n",
    "                temp.right_child.parent = temp\n",
    "                return\n",
    "            temp = temp.right_child\n",
    "    def delete_max(self):\n",
    "        temp = self.root\n",
    "        while temp.right_child != None:\n",
    "            temp = temp.right_child\n",
    "        if temp == self.root:\n",
    "            if temp.left_child == None:\n",
    "                self.root = None\n",
    "                return temp \n",
    "            self.root == temp.left_child\n",
    "            self.root.parent = None\n",
    "            return temp\n",
    "        if temp.left_child != None:\n",
    "            temp.left_child.parent = temp.parent\n",
    "            temp.parent.right_child = temp.left_child\n",
    "            return temp \n",
    "        temp.parent.right_child = None\n",
    "        temp.parent = None\n",
    "        return temp \n",
    "\n",
    "        \n"
   ]
  },
  {
   "cell_type": "code",
   "execution_count": null,
   "metadata": {},
   "outputs": [],
   "source": [
    "def find_intersections(segments):\n",
    "    event_Q = BST()\n",
    "    print(event_Q.is_empty())\n",
    "    for s in segments:\n",
    "        event_Q.add(Event(s.upper, 'upper'))\n",
    "        event_Q.add(Event(s.lower, 'lower'))\n",
    "    status_Q = BST()\n",
    "    while not event_Q.is_empty():\n",
    "        print(event_Q.delete_max())\n",
    "        \n",
    "    return event_Q\n",
    "\n"
   ]
  },
  {
   "cell_type": "code",
   "execution_count": null,
   "metadata": {},
   "outputs": [],
   "source": [
    "import random\n",
    "\n",
    "segments = []\n",
    "for i in range(10):\n",
    "    segments.append(Segment((round(random.random() * 200 - 100, 2)), (round(random.random() * 200 - 100, 2)), (round(random.random() * 200 - 100, 2)), (round(random.random() * 200 - 100, 2))))\n",
    "EventBST = find_intersections(segments)"
   ]
  },
  {
   "cell_type": "code",
   "execution_count": null,
   "metadata": {},
   "outputs": [],
   "source": [
    "EventBST.root.value"
   ]
  },
  {
   "cell_type": "code",
   "execution_count": null,
   "metadata": {},
   "outputs": [],
   "source": [
    "print(EventBST.root.left_child.value, EventBST.root.right_child.value)"
   ]
  },
  {
   "cell_type": "code",
   "execution_count": null,
   "metadata": {},
   "outputs": [],
   "source": [
    "print( EventBST.root.left_child.right_child.value)"
   ]
  }
 ],
 "metadata": {
  "kernelspec": {
   "display_name": "Python 3",
   "language": "python",
   "name": "python3"
  },
  "language_info": {
   "codemirror_mode": {
    "name": "ipython",
    "version": 3
   },
   "file_extension": ".py",
   "mimetype": "text/x-python",
   "name": "python",
   "nbconvert_exporter": "python",
   "pygments_lexer": "ipython3",
   "version": "3.10.5"
  }
 },
 "nbformat": 4,
 "nbformat_minor": 2
}
